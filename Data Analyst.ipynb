{
 "cells": [
  {
   "cell_type": "markdown",
   "metadata": {},
   "source": [
    "# Data Analyst"
   ]
  },
  {
   "cell_type": "markdown",
   "metadata": {},
   "source": [
    "There are four data sets provided with these questions. For the most part, the column names in each file are\n",
    "self-explanatory, but for “InterviewData_Activity.csv”, here is a quick description of the variables:\n",
    "\n",
    "- userid (our unique identifier of a member in the database)\n",
    "- date the member last placed an order\n",
    "- age (an integer value)\n",
    "- gender (“M” or “F”)\n",
    "- metropolitan_area (sample metro areas)\n",
    "- device_type used (Desktop, Tablet, or Mobile)\n",
    "- active (the response variable and a binary outcome, “0” meaning they were not an active member and “1” meaning they were active at the time this illustrative data was generated)"
   ]
  },
  {
   "cell_type": "markdown",
   "metadata": {},
   "source": [
    "#### My response and this jupyter notebook covers the following Questions:\n",
    "\n",
    "(1) Using any functions/packages you want, join these two data sets by “date” and “source_id”, returning\n",
    "all rows from both regardless of whether there is a match between the two data sets.\n",
    "\n",
    "(2) Using any functions/packages you want, join these two data sets by “date” and “source_id”, returning\n",
    "only the rows from the “Cost” file that have no corresponding date in the “Revenue” file.\n",
    "\n",
    "(3) Using your result from #1, what are the Top 4 sources (“source_id” values) in terms of total revenue\n",
    "generation across this data set? How would you visualize the monthly revenue for those Top 4 sources?\n",
    "(note: you don’t need to actually create a plot; you can just describe what your ideal visual would look\n",
    "like)\n",
    "\n",
    "(4) Assuming you’ve read the data into a Pandas DataFrame called df, run the following code to build a\n",
    "basic logistic regression model:\n",
    "\n",
    "Apply this model to the same data that the model was trained on and assess the prediction accuracy\n",
    "(5) Split the data into training and test samples, and build a model over the training data using the following\n",
    "Python code:\n",
    "Assess the training data model’s accuracy on the test data. Why does the accuracy change so much?\n",
    "\n",
    "(6) This data comes from a subset of userdata JSON blobs stored in our database. Parse out the values\n",
    "(stored in the “data_to_parse” column) into four separate columns. So for example, the four additional\n",
    "columns for the first entry would have values of “N”, “U”, “A7”, and “W”. You can use any\n",
    "functions/packages you want for this.\n",
    "\n",
    "ADDITIONAL QUESTION \n",
    "B) One of the ways we attract new members is through digital marketing campaigns (e.g., on Facebook).\n",
    "Assume that we know a little bit about potential users who see an ad for Shipt on Facebook – things like\n",
    "name and general metropolitan area, and then can measure the impressions on the ad, clicks to our\n",
    "landing page, and then conversions on our landing page. Our goal then is to drive more conversions on\n",
    "the landing page. What are some ways you might look at the already collected data (or some ways to\n",
    "enrich the existing data set) to try and make recommendations to the Marketing team for how to"
   ]
  },
  {
   "cell_type": "markdown",
   "metadata": {},
   "source": [
    "#### Data Loading"
   ]
  },
  {
   "cell_type": "code",
   "execution_count": 20,
   "metadata": {},
   "outputs": [],
   "source": [
    "import pandas as pd \n",
    "import statsmodels.api as sm\n",
    "import numpy as np \n",
    "import sklearn.metrics as metrics\n",
    "import matplotlib.pyplot as plt\n",
    "import seaborn as sns\n",
    "import calendar"
   ]
  },
  {
   "cell_type": "code",
   "execution_count": 6,
   "metadata": {},
   "outputs": [],
   "source": [
    "Rev = pd.read_csv(\"data/InterviewData_Rev.csv\") \n",
    "Parsing = pd.read_csv(\"data/InterviewData_Parsing.csv\") \n",
    "Cost = pd.read_csv(\"data/InterviewData_Cost.csv\") \n",
    "Activity = pd.read_csv(\"data/InterviewData_Activity.csv\") "
   ]
  },
  {
   "cell_type": "code",
   "execution_count": 7,
   "metadata": {},
   "outputs": [
    {
     "data": {
      "text/html": [
       "<div>\n",
       "<style scoped>\n",
       "    .dataframe tbody tr th:only-of-type {\n",
       "        vertical-align: middle;\n",
       "    }\n",
       "\n",
       "    .dataframe tbody tr th {\n",
       "        vertical-align: top;\n",
       "    }\n",
       "\n",
       "    .dataframe thead th {\n",
       "        text-align: right;\n",
       "    }\n",
       "</style>\n",
       "<table border=\"1\" class=\"dataframe\">\n",
       "  <thead>\n",
       "    <tr style=\"text-align: right;\">\n",
       "      <th></th>\n",
       "      <th>date</th>\n",
       "      <th>source_id</th>\n",
       "      <th>revenue</th>\n",
       "    </tr>\n",
       "  </thead>\n",
       "  <tbody>\n",
       "    <tr>\n",
       "      <th>0</th>\n",
       "      <td>8/1/14</td>\n",
       "      <td>PA0368</td>\n",
       "      <td>5717.0</td>\n",
       "    </tr>\n",
       "    <tr>\n",
       "      <th>1</th>\n",
       "      <td>1/31/14</td>\n",
       "      <td>PA0277</td>\n",
       "      <td>1380.0</td>\n",
       "    </tr>\n",
       "    <tr>\n",
       "      <th>2</th>\n",
       "      <td>6/9/14</td>\n",
       "      <td>PA0745</td>\n",
       "      <td>7535.0</td>\n",
       "    </tr>\n",
       "    <tr>\n",
       "      <th>3</th>\n",
       "      <td>9/1/14</td>\n",
       "      <td>PA0751</td>\n",
       "      <td>2868.0</td>\n",
       "    </tr>\n",
       "    <tr>\n",
       "      <th>4</th>\n",
       "      <td>3/12/14</td>\n",
       "      <td>PA0859</td>\n",
       "      <td>10757.0</td>\n",
       "    </tr>\n",
       "  </tbody>\n",
       "</table>\n",
       "</div>"
      ],
      "text/plain": [
       "      date source_id  revenue\n",
       "0   8/1/14    PA0368   5717.0\n",
       "1  1/31/14    PA0277   1380.0\n",
       "2   6/9/14    PA0745   7535.0\n",
       "3   9/1/14    PA0751   2868.0\n",
       "4  3/12/14    PA0859  10757.0"
      ]
     },
     "execution_count": 7,
     "metadata": {},
     "output_type": "execute_result"
    }
   ],
   "source": [
    "Rev.head()"
   ]
  },
  {
   "cell_type": "code",
   "execution_count": 8,
   "metadata": {},
   "outputs": [
    {
     "data": {
      "text/html": [
       "<div>\n",
       "<style scoped>\n",
       "    .dataframe tbody tr th:only-of-type {\n",
       "        vertical-align: middle;\n",
       "    }\n",
       "\n",
       "    .dataframe tbody tr th {\n",
       "        vertical-align: top;\n",
       "    }\n",
       "\n",
       "    .dataframe thead th {\n",
       "        text-align: right;\n",
       "    }\n",
       "</style>\n",
       "<table border=\"1\" class=\"dataframe\">\n",
       "  <thead>\n",
       "    <tr style=\"text-align: right;\">\n",
       "      <th></th>\n",
       "      <th>userid</th>\n",
       "      <th>data_to_parse</th>\n",
       "    </tr>\n",
       "  </thead>\n",
       "  <tbody>\n",
       "    <tr>\n",
       "      <th>0</th>\n",
       "      <td>54f3ad9a29ada</td>\n",
       "      <td>\"value\":\"N;U;A7;W\"}]</td>\n",
       "    </tr>\n",
       "    <tr>\n",
       "      <th>1</th>\n",
       "      <td>54f69f2de6aec</td>\n",
       "      <td>\"value\":\"N;U;I6;W\"}]</td>\n",
       "    </tr>\n",
       "    <tr>\n",
       "      <th>2</th>\n",
       "      <td>54f650f004474</td>\n",
       "      <td>\"value\":\"Y;U;A7;W\"}]</td>\n",
       "    </tr>\n",
       "    <tr>\n",
       "      <th>3</th>\n",
       "      <td>54f52e8872227</td>\n",
       "      <td>\"value\":\"N;U;I1;W\"}]</td>\n",
       "    </tr>\n",
       "    <tr>\n",
       "      <th>4</th>\n",
       "      <td>54f64d3075b72</td>\n",
       "      <td>\"value\":\"Y;U;A7;W\"}]</td>\n",
       "    </tr>\n",
       "  </tbody>\n",
       "</table>\n",
       "</div>"
      ],
      "text/plain": [
       "          userid         data_to_parse\n",
       "0  54f3ad9a29ada  \"value\":\"N;U;A7;W\"}]\n",
       "1  54f69f2de6aec  \"value\":\"N;U;I6;W\"}]\n",
       "2  54f650f004474  \"value\":\"Y;U;A7;W\"}]\n",
       "3  54f52e8872227  \"value\":\"N;U;I1;W\"}]\n",
       "4  54f64d3075b72  \"value\":\"Y;U;A7;W\"}]"
      ]
     },
     "execution_count": 8,
     "metadata": {},
     "output_type": "execute_result"
    }
   ],
   "source": [
    "Parsing.head()"
   ]
  },
  {
   "cell_type": "code",
   "execution_count": 9,
   "metadata": {},
   "outputs": [
    {
     "data": {
      "text/html": [
       "<div>\n",
       "<style scoped>\n",
       "    .dataframe tbody tr th:only-of-type {\n",
       "        vertical-align: middle;\n",
       "    }\n",
       "\n",
       "    .dataframe tbody tr th {\n",
       "        vertical-align: top;\n",
       "    }\n",
       "\n",
       "    .dataframe thead th {\n",
       "        text-align: right;\n",
       "    }\n",
       "</style>\n",
       "<table border=\"1\" class=\"dataframe\">\n",
       "  <thead>\n",
       "    <tr style=\"text-align: right;\">\n",
       "      <th></th>\n",
       "      <th>date</th>\n",
       "      <th>source_id</th>\n",
       "      <th>cost</th>\n",
       "    </tr>\n",
       "  </thead>\n",
       "  <tbody>\n",
       "    <tr>\n",
       "      <th>0</th>\n",
       "      <td>10/17/14</td>\n",
       "      <td>PA0577</td>\n",
       "      <td>7168.0</td>\n",
       "    </tr>\n",
       "    <tr>\n",
       "      <th>1</th>\n",
       "      <td>8/17/14</td>\n",
       "      <td>PA0354</td>\n",
       "      <td>7615.0</td>\n",
       "    </tr>\n",
       "    <tr>\n",
       "      <th>2</th>\n",
       "      <td>1/7/14</td>\n",
       "      <td>PA0607</td>\n",
       "      <td>4054.0</td>\n",
       "    </tr>\n",
       "    <tr>\n",
       "      <th>3</th>\n",
       "      <td>8/25/14</td>\n",
       "      <td>PA0745</td>\n",
       "      <td>9317.0</td>\n",
       "    </tr>\n",
       "    <tr>\n",
       "      <th>4</th>\n",
       "      <td>11/30/14</td>\n",
       "      <td>PA0923</td>\n",
       "      <td>5586.0</td>\n",
       "    </tr>\n",
       "  </tbody>\n",
       "</table>\n",
       "</div>"
      ],
      "text/plain": [
       "       date source_id    cost\n",
       "0  10/17/14    PA0577  7168.0\n",
       "1   8/17/14    PA0354  7615.0\n",
       "2    1/7/14    PA0607  4054.0\n",
       "3   8/25/14    PA0745  9317.0\n",
       "4  11/30/14    PA0923  5586.0"
      ]
     },
     "execution_count": 9,
     "metadata": {},
     "output_type": "execute_result"
    }
   ],
   "source": [
    "Cost.head()"
   ]
  },
  {
   "cell_type": "code",
   "execution_count": 10,
   "metadata": {},
   "outputs": [
    {
     "data": {
      "text/html": [
       "<div>\n",
       "<style scoped>\n",
       "    .dataframe tbody tr th:only-of-type {\n",
       "        vertical-align: middle;\n",
       "    }\n",
       "\n",
       "    .dataframe tbody tr th {\n",
       "        vertical-align: top;\n",
       "    }\n",
       "\n",
       "    .dataframe thead th {\n",
       "        text-align: right;\n",
       "    }\n",
       "</style>\n",
       "<table border=\"1\" class=\"dataframe\">\n",
       "  <thead>\n",
       "    <tr style=\"text-align: right;\">\n",
       "      <th></th>\n",
       "      <th>userid</th>\n",
       "      <th>date</th>\n",
       "      <th>age</th>\n",
       "      <th>gender</th>\n",
       "      <th>metropolitan_area</th>\n",
       "      <th>device_type</th>\n",
       "      <th>active</th>\n",
       "    </tr>\n",
       "  </thead>\n",
       "  <tbody>\n",
       "    <tr>\n",
       "      <th>0</th>\n",
       "      <td>4e3a9ea937b3a</td>\n",
       "      <td>8/4/15</td>\n",
       "      <td>30</td>\n",
       "      <td>F</td>\n",
       "      <td>Detroit</td>\n",
       "      <td>Tablet</td>\n",
       "      <td>1</td>\n",
       "    </tr>\n",
       "    <tr>\n",
       "      <th>1</th>\n",
       "      <td>4e3dd5154a08c</td>\n",
       "      <td>8/6/15</td>\n",
       "      <td>43</td>\n",
       "      <td>F</td>\n",
       "      <td>Charlotte</td>\n",
       "      <td>Desktop</td>\n",
       "      <td>1</td>\n",
       "    </tr>\n",
       "    <tr>\n",
       "      <th>2</th>\n",
       "      <td>4e3df1ecd131a</td>\n",
       "      <td>8/6/15</td>\n",
       "      <td>41</td>\n",
       "      <td>F</td>\n",
       "      <td>Tampa</td>\n",
       "      <td>Mobile</td>\n",
       "      <td>1</td>\n",
       "    </tr>\n",
       "    <tr>\n",
       "      <th>3</th>\n",
       "      <td>4e4e77461b1e3</td>\n",
       "      <td>8/19/15</td>\n",
       "      <td>56</td>\n",
       "      <td>F</td>\n",
       "      <td>Nashville</td>\n",
       "      <td>Desktop</td>\n",
       "      <td>1</td>\n",
       "    </tr>\n",
       "    <tr>\n",
       "      <th>4</th>\n",
       "      <td>4e4eb59b6de55</td>\n",
       "      <td>8/19/15</td>\n",
       "      <td>33</td>\n",
       "      <td>F</td>\n",
       "      <td>Detroit</td>\n",
       "      <td>Mobile</td>\n",
       "      <td>1</td>\n",
       "    </tr>\n",
       "  </tbody>\n",
       "</table>\n",
       "</div>"
      ],
      "text/plain": [
       "          userid     date  age gender metropolitan_area device_type  active\n",
       "0  4e3a9ea937b3a   8/4/15   30      F           Detroit      Tablet       1\n",
       "1  4e3dd5154a08c   8/6/15   43      F         Charlotte     Desktop       1\n",
       "2  4e3df1ecd131a   8/6/15   41      F             Tampa      Mobile       1\n",
       "3  4e4e77461b1e3  8/19/15   56      F         Nashville     Desktop       1\n",
       "4  4e4eb59b6de55  8/19/15   33      F           Detroit      Mobile       1"
      ]
     },
     "execution_count": 10,
     "metadata": {},
     "output_type": "execute_result"
    }
   ],
   "source": [
    "Activity.head()"
   ]
  },
  {
   "cell_type": "code",
   "execution_count": 25,
   "metadata": {},
   "outputs": [
    {
     "data": {
      "text/plain": [
       "5420"
      ]
     },
     "execution_count": 25,
     "metadata": {},
     "output_type": "execute_result"
    }
   ],
   "source": [
    "len(Activity.index)"
   ]
  },
  {
   "cell_type": "markdown",
   "metadata": {},
   "source": [
    "## Question 1"
   ]
  },
  {
   "cell_type": "markdown",
   "metadata": {},
   "source": [
    "Using any functions/packages you want, join these two data sets by “date” and “source_id”, returning\n",
    "all rows from both regardless of whether there is a match between the two data sets."
   ]
  },
  {
   "cell_type": "code",
   "execution_count": 15,
   "metadata": {},
   "outputs": [
    {
     "name": "stdout",
     "output_type": "stream",
     "text": [
      "          date source_id    cost  revenue\n",
      "0     10/17/14    PA0577  7168.0   8417.0\n",
      "1      8/17/14    PA0354  7615.0   4200.0\n",
      "2       1/7/14    PA0607  4054.0   7935.0\n",
      "3      8/25/14    PA0745  9317.0   5536.0\n",
      "4     12/22/14    PA0808  8049.0   3573.0\n",
      "...        ...       ...     ...      ...\n",
      "5377  12/24/14    PA0745  7063.0   9389.0\n",
      "5378  12/16/14    PA0973   733.0   5314.0\n",
      "5379    6/8/14    PA0752  3574.0      NaN\n",
      "5380  10/14/14    PA0277  9112.0   8853.0\n",
      "5381   1/29/14    PA0470  4186.0   2146.0\n",
      "\n",
      "[5382 rows x 4 columns]\n"
     ]
    }
   ],
   "source": [
    "costplusrev  = pd.merge(left=Cost, right=Rev, on=['date','source_id'], how='inner')\n",
    "print(costplusrev)"
   ]
  },
  {
   "cell_type": "markdown",
   "metadata": {},
   "source": [
    "## Question 2"
   ]
  },
  {
   "cell_type": "markdown",
   "metadata": {},
   "source": [
    "Using any functions/packages you want, join these two data sets by “date” and “source_id”, returning\n",
    "only the rows from the “Cost” file that have no corresponding date in the “Revenue” file."
   ]
  },
  {
   "cell_type": "code",
   "execution_count": 17,
   "metadata": {},
   "outputs": [
    {
     "name": "stdout",
     "output_type": "stream",
     "text": [
      "          date source_id    cost  revenue\n",
      "0     10/17/14    PA0577  7168.0   8417.0\n",
      "1      8/17/14    PA0354  7615.0   4200.0\n",
      "2       1/7/14    PA0607  4054.0   7935.0\n",
      "3      8/25/14    PA0745  9317.0   5536.0\n",
      "4     11/30/14    PA0923  5586.0      NaN\n",
      "...        ...       ...     ...      ...\n",
      "9995   1/10/14    PA0830  6202.0      NaN\n",
      "9996   1/31/14    PA0467  7057.0      NaN\n",
      "9997  10/14/14    PA0277  9112.0   8853.0\n",
      "9998   10/1/14    PA0293  1053.0      NaN\n",
      "9999   1/29/14    PA0470  4186.0   2146.0\n",
      "\n",
      "[10000 rows x 4 columns]\n"
     ]
    }
   ],
   "source": [
    "costplusrev  = pd.merge(left=Cost, right=Rev, on=['date','source_id'], how='left')\n",
    "print(costplusrev)"
   ]
  },
  {
   "cell_type": "markdown",
   "metadata": {},
   "source": [
    "## Question 3"
   ]
  },
  {
   "cell_type": "markdown",
   "metadata": {},
   "source": [
    "Using your result from 1, what are the Top 4 sources (“source_id” values) in terms of total revenue\n",
    "generation across this data set?"
   ]
  },
  {
   "cell_type": "code",
   "execution_count": 19,
   "metadata": {},
   "outputs": [],
   "source": [
    "highestrevenue = costplusrev.sort_values('revenue', ascending=False)"
   ]
  },
  {
   "cell_type": "code",
   "execution_count": 20,
   "metadata": {},
   "outputs": [
    {
     "name": "stdout",
     "output_type": "stream",
     "text": [
      "          date source_id    cost  revenue\n",
      "3322   1/11/14    PA0202  9637.0  12000.0\n",
      "3176   1/17/14    PA0057  1691.0  11999.0\n",
      "4748  10/14/14    PA0873  8376.0  11995.0\n",
      "752    5/30/14    PA0678  9739.0  11992.0\n",
      "6377    8/8/14    PA0745  7905.0  11988.0\n",
      "...        ...       ...     ...      ...\n",
      "9993   12/7/14    PA0900  2037.0      NaN\n",
      "9994   7/11/14    PA0474   726.0      NaN\n",
      "9995   1/10/14    PA0830  6202.0      NaN\n",
      "9996   1/31/14    PA0467  7057.0      NaN\n",
      "9998   10/1/14    PA0293  1053.0      NaN\n",
      "\n",
      "[10000 rows x 4 columns]\n"
     ]
    }
   ],
   "source": [
    "print(highestrevenue)"
   ]
  },
  {
   "cell_type": "markdown",
   "metadata": {},
   "source": [
    "## Top 4 Resources"
   ]
  },
  {
   "cell_type": "code",
   "execution_count": 21,
   "metadata": {},
   "outputs": [
    {
     "data": {
      "text/html": [
       "<div>\n",
       "<style scoped>\n",
       "    .dataframe tbody tr th:only-of-type {\n",
       "        vertical-align: middle;\n",
       "    }\n",
       "\n",
       "    .dataframe tbody tr th {\n",
       "        vertical-align: top;\n",
       "    }\n",
       "\n",
       "    .dataframe thead th {\n",
       "        text-align: right;\n",
       "    }\n",
       "</style>\n",
       "<table border=\"1\" class=\"dataframe\">\n",
       "  <thead>\n",
       "    <tr style=\"text-align: right;\">\n",
       "      <th></th>\n",
       "      <th>date</th>\n",
       "      <th>source_id</th>\n",
       "      <th>cost</th>\n",
       "      <th>revenue</th>\n",
       "    </tr>\n",
       "  </thead>\n",
       "  <tbody>\n",
       "    <tr>\n",
       "      <th>3322</th>\n",
       "      <td>1/11/14</td>\n",
       "      <td>PA0202</td>\n",
       "      <td>9637.0</td>\n",
       "      <td>12000.0</td>\n",
       "    </tr>\n",
       "    <tr>\n",
       "      <th>3176</th>\n",
       "      <td>1/17/14</td>\n",
       "      <td>PA0057</td>\n",
       "      <td>1691.0</td>\n",
       "      <td>11999.0</td>\n",
       "    </tr>\n",
       "    <tr>\n",
       "      <th>4748</th>\n",
       "      <td>10/14/14</td>\n",
       "      <td>PA0873</td>\n",
       "      <td>8376.0</td>\n",
       "      <td>11995.0</td>\n",
       "    </tr>\n",
       "    <tr>\n",
       "      <th>752</th>\n",
       "      <td>5/30/14</td>\n",
       "      <td>PA0678</td>\n",
       "      <td>9739.0</td>\n",
       "      <td>11992.0</td>\n",
       "    </tr>\n",
       "  </tbody>\n",
       "</table>\n",
       "</div>"
      ],
      "text/plain": [
       "          date source_id    cost  revenue\n",
       "3322   1/11/14    PA0202  9637.0  12000.0\n",
       "3176   1/17/14    PA0057  1691.0  11999.0\n",
       "4748  10/14/14    PA0873  8376.0  11995.0\n",
       "752    5/30/14    PA0678  9739.0  11992.0"
      ]
     },
     "execution_count": 21,
     "metadata": {},
     "output_type": "execute_result"
    }
   ],
   "source": [
    "highestrevenue.head(4)"
   ]
  },
  {
   "cell_type": "code",
   "execution_count": 37,
   "metadata": {},
   "outputs": [
    {
     "name": "stdout",
     "output_type": "stream",
     "text": [
      "           date source_id    cost  revenue\n",
      "3322 2014-01-11    PA0202  9637.0  12000.0\n",
      "3176 2014-01-17    PA0057  1691.0  11999.0\n",
      "4748 2014-10-14    PA0873  8376.0  11995.0\n",
      "752  2014-05-30    PA0678  9739.0  11992.0\n",
      "5442 2014-02-13    PA0202  4157.0  11954.0\n",
      "...         ...       ...     ...      ...\n",
      "9800 2014-02-09    PA0873   989.0      NaN\n",
      "9855 2014-06-20    PA0873  6407.0      NaN\n",
      "9857 2014-03-01    PA0202  7104.0      NaN\n",
      "9897 2014-07-14    PA0057  7231.0      NaN\n",
      "9946 2014-01-08    PA0057  2308.0      NaN\n",
      "\n",
      "[789 rows x 4 columns]\n"
     ]
    }
   ],
   "source": [
    "df_plot= highestrevenue.loc[highestrevenue['source_id'].isin(['PA0202','PA0057','PA0873','PA0678'])]\n",
    "print(df_plot)\n"
   ]
  },
  {
   "cell_type": "markdown",
   "metadata": {},
   "source": [
    "## Question 3 : For Viz"
   ]
  },
  {
   "cell_type": "markdown",
   "metadata": {},
   "source": [
    "How would you visualize the monthly revenue for those Top 4 sources?\n",
    "(note: you don’t need to actually create a plot; you can just describe what your ideal visual would look\n",
    "like)"
   ]
  },
  {
   "cell_type": "markdown",
   "metadata": {},
   "source": [
    "#### NOTE that the vizualization was done in a different jupyter notebook so I am attaching the screenshot of the vizualization seperately in case it is not viewable here."
   ]
  },
  {
   "cell_type": "code",
   "execution_count": 42,
   "metadata": {},
   "outputs": [
    {
     "data": {
      "text/plain": [
       "date\n",
       "February     123702.0\n",
       "April        136110.0\n",
       "July         145350.0\n",
       "March        178350.0\n",
       "October      199992.0\n",
       "September    203631.0\n",
       "December     204183.0\n",
       "January      209337.0\n",
       "August       231515.0\n",
       "November     233001.0\n",
       "May          267656.0\n",
       "June         277374.0\n",
       "Name: revenue, dtype: float64"
      ]
     },
     "execution_count": 42,
     "metadata": {},
     "output_type": "execute_result"
    }
   ],
   "source": [
    "df_plot.groupby(df_plot['date'].dt.strftime('%B'))['revenue'].sum().sort_values()"
   ]
  },
  {
   "cell_type": "code",
   "execution_count": 44,
   "metadata": {},
   "outputs": [
    {
     "data": {
      "text/plain": [
       "date       source_id\n",
       "April      PA0057       16001.0\n",
       "           PA0202       54063.0\n",
       "           PA0678       24219.0\n",
       "           PA0873       41827.0\n",
       "August     PA0057       40673.0\n",
       "           PA0202       75281.0\n",
       "           PA0678       60318.0\n",
       "           PA0873       55243.0\n",
       "December   PA0057       49781.0\n",
       "           PA0202       71797.0\n",
       "           PA0678       24975.0\n",
       "           PA0873       57630.0\n",
       "February   PA0057       13193.0\n",
       "           PA0202       44211.0\n",
       "           PA0678       29862.0\n",
       "           PA0873       36436.0\n",
       "January    PA0057       65707.0\n",
       "           PA0202       67384.0\n",
       "           PA0678       29392.0\n",
       "           PA0873       46854.0\n",
       "July       PA0057       31533.0\n",
       "           PA0202       49663.0\n",
       "           PA0678       10520.0\n",
       "           PA0873       53634.0\n",
       "June       PA0057       97229.0\n",
       "           PA0202       56115.0\n",
       "           PA0678       72770.0\n",
       "           PA0873       51260.0\n",
       "March      PA0057       44622.0\n",
       "           PA0202       54079.0\n",
       "           PA0678       36776.0\n",
       "           PA0873       42873.0\n",
       "May        PA0057       38077.0\n",
       "           PA0202       68103.0\n",
       "           PA0678       78012.0\n",
       "           PA0873       83464.0\n",
       "November   PA0057       26599.0\n",
       "           PA0202       53050.0\n",
       "           PA0678       87853.0\n",
       "           PA0873       65499.0\n",
       "October    PA0057       47638.0\n",
       "           PA0202       44445.0\n",
       "           PA0678       49983.0\n",
       "           PA0873       57926.0\n",
       "September  PA0057       46171.0\n",
       "           PA0202       49202.0\n",
       "           PA0678       42598.0\n",
       "           PA0873       65660.0\n",
       "Name: revenue, dtype: float64"
      ]
     },
     "execution_count": 44,
     "metadata": {},
     "output_type": "execute_result"
    }
   ],
   "source": [
    "(df_plot.groupby([df_plot['date'].dt.strftime('%B'), 'source_id'])['revenue']\n",
    "        .sum()\n",
    "        .sort_index())"
   ]
  },
  {
   "cell_type": "code",
   "execution_count": null,
   "metadata": {},
   "outputs": [],
   "source": [
    "dfg = df_plot.groupby(['month', 'source_id']).agg({'revenue': sum}).reset_index()\n",
    "\n",
    "\n",
    "dfg.month = pd.Categorical(df_plot.month, categories=list(calendar.month_name)[1:], ordered=True)\n",
    "\n",
    "plt.figure(figsize=(10, 6))\n",
    "sns.lineplot(x='month', y='revenue', data=dfg, hue='source_id')\n",
    "plt.legend(bbox_to_anchor=(1.05, 1), loc='upper left')\n",
    "plt.xticks(rotation=90)\n",
    "plt.show()"
   ]
  },
  {
   "attachments": {
    "image.png": {
     "image/png": "[encoded data removed]"
    }
   },
   "cell_type": "markdown",
   "metadata": {},
   "source": [
    "![image.png](attachment:image.png)"
   ]
  },
  {
   "cell_type": "markdown",
   "metadata": {},
   "source": [
    "## Question 4 "
   ]
  },
  {
   "cell_type": "markdown",
   "metadata": {},
   "source": [
    "Assuming you’ve read the data into a Pandas DataFrame called df, run the following code to build a\n",
    "basic logistic regression model:\n",
    "Apply this model to the same data that the model was trained on and assess the prediction accuracy."
   ]
  },
  {
   "cell_type": "code",
   "execution_count": 11,
   "metadata": {},
   "outputs": [],
   "source": [
    "dummy_genders = pd.get_dummies(Activity['gender'], prefix = 'gender')"
   ]
  },
  {
   "cell_type": "code",
   "execution_count": 12,
   "metadata": {},
   "outputs": [],
   "source": [
    "dummy_metro = pd.get_dummies(Activity['metropolitan_area'], prefix = 'metro_area')\n",
    "dummy_device = pd.get_dummies(Activity['device_type'], prefix = 'device')\n",
    "cols_to_keep = ['active', 'age']"
   ]
  },
  {
   "cell_type": "code",
   "execution_count": 13,
   "metadata": {},
   "outputs": [],
   "source": [
    "activity_data= Activity[cols_to_keep].join(dummy_genders.loc[:, 'gender_M':])\n",
    "activity_data= activity_data.join(dummy_metro.loc[:, 'metro_area_Birmingham':])"
   ]
  },
  {
   "cell_type": "code",
   "execution_count": 14,
   "metadata": {},
   "outputs": [],
   "source": [
    "activity_data = activity_data.join(dummy_device.loc[:, 'device_Mobile':])\n",
    "activity_data = sm.add_constant(activity_data, prepend=False)\n",
    "explanatory_cols = activity_data.columns[1:]\n",
    "full_logit_model = sm.GLM(activity_data['active'],activity_data[explanatory_cols],family=sm.families.Binomial())\n",
    "result = full_logit_model.fit()\n"
   ]
  },
  {
   "cell_type": "code",
   "execution_count": 15,
   "metadata": {},
   "outputs": [
    {
     "name": "stdout",
     "output_type": "stream",
     "text": [
      "<statsmodels.genmod.generalized_linear_model.GLMResultsWrapper object at 0x000002B1E8F1F208>\n"
     ]
    }
   ],
   "source": [
    "print(result)"
   ]
  },
  {
   "cell_type": "code",
   "execution_count": 16,
   "metadata": {},
   "outputs": [
    {
     "data": {
      "text/plain": [
       "0       0.561944\n",
       "1       0.469301\n",
       "2       0.586239\n",
       "3       1.000000\n",
       "4       0.505904\n",
       "          ...   \n",
       "5415    0.298635\n",
       "5416    0.542475\n",
       "5417    0.437380\n",
       "5418    0.437380\n",
       "5419    0.549623\n",
       "Length: 5420, dtype: float64"
      ]
     },
     "execution_count": 16,
     "metadata": {},
     "output_type": "execute_result"
    }
   ],
   "source": [
    "result.predict(activity_data[explanatory_cols])"
   ]
  },
  {
   "cell_type": "markdown",
   "metadata": {},
   "source": [
    "##  Question 5"
   ]
  },
  {
   "cell_type": "markdown",
   "metadata": {},
   "source": [
    "Split the data into training and test samples, and build a model over the training data using the following\n",
    "Python code:\n",
    "Assess the training data model’s accuracy on the test data. "
   ]
  },
  {
   "cell_type": "code",
   "execution_count": 17,
   "metadata": {},
   "outputs": [],
   "source": [
    "training_data = activity_data[1:4000]\n",
    "test_data = activity_data[4001:].copy()\n",
    "training_logit_model = sm.GLM(training_data['active'],\n",
    "training_data[explanatory_cols],\n",
    "family=sm.families.Binomial())\n",
    "training_result = training_logit_model.fit()\n"
   ]
  },
  {
   "cell_type": "code",
   "execution_count": 18,
   "metadata": {},
   "outputs": [
    {
     "data": {
      "text/plain": [
       "1       0.632930\n",
       "2       0.715332\n",
       "3       1.000000\n",
       "4       0.631061\n",
       "5       0.620918\n",
       "          ...   \n",
       "3995    0.520810\n",
       "3996    0.655526\n",
       "3997    0.520810\n",
       "3998    0.154417\n",
       "3999    0.653253\n",
       "Length: 3999, dtype: float64"
      ]
     },
     "execution_count": 18,
     "metadata": {},
     "output_type": "execute_result"
    }
   ],
   "source": [
    "training_result.predict(training_data[explanatory_cols])"
   ]
  },
  {
   "cell_type": "code",
   "execution_count": 19,
   "metadata": {},
   "outputs": [
    {
     "data": {
      "text/plain": [
       "4001    0.726291\n",
       "4002    0.720639\n",
       "4003    0.594376\n",
       "4004    0.615066\n",
       "4005    0.630841\n",
       "          ...   \n",
       "5415    0.455891\n",
       "5416    0.650352\n",
       "5417    0.559387\n",
       "5418    0.559387\n",
       "5419    0.699250\n",
       "Length: 1419, dtype: float64"
      ]
     },
     "execution_count": 19,
     "metadata": {},
     "output_type": "execute_result"
    }
   ],
   "source": [
    "training_result.predict(test_data[explanatory_cols])"
   ]
  },
  {
   "cell_type": "markdown",
   "metadata": {},
   "source": [
    "Why does the accuracy change so much?"
   ]
  },
  {
   "cell_type": "markdown",
   "metadata": {},
   "source": [
    "It's usually recommend to build the model that gets evaluated using methods like k-fold cross-validation. Its accuracy is good"
   ]
  },
  {
   "cell_type": "markdown",
   "metadata": {},
   "source": [
    "##     Question 6"
   ]
  },
  {
   "cell_type": "markdown",
   "metadata": {},
   "source": [
    "### Question 6 deals with “InterviewData_Parsing.csv”.\n",
    "(6) This data comes from a subset of userdata JSON blobs stored in our database. Parse out the values\n",
    "(stored in the “data_to_parse” column) into four separate columns. So for example, the four additional\n",
    "columns for the first entry would have values of “N”, “U”, “A7”, and “W”. You can use any\n",
    "functions/packages you want for this."
   ]
  },
  {
   "cell_type": "code",
   "execution_count": 23,
   "metadata": {},
   "outputs": [
    {
     "name": "stdout",
     "output_type": "stream",
     "text": [
      "            userid         data_to_parse value0 value1 value2 value3\n",
      "0    54f3ad9a29ada  \"value\":\"N;U;A7;W\"}]      N      U     A7      W\n",
      "1    54f69f2de6aec  \"value\":\"N;U;I6;W\"}]      N      U     I6      W\n",
      "2    54f650f004474  \"value\":\"Y;U;A7;W\"}]      Y      U     A7      W\n",
      "3    54f52e8872227  \"value\":\"N;U;I1;W\"}]      N      U     I1      W\n",
      "4    54f64d3075b72  \"value\":\"Y;U;A7;W\"}]      Y      U     A7      W\n",
      "..             ...                   ...    ...    ...    ...    ...\n",
      "948  54f5eb32d1a5b  \"value\":\"N;U;A1;W\"}]      N      U     A1      W\n",
      "949  54f34bd1a812a  \"value\":\"N;C;A2;L\"}]      N      C     A2      L\n",
      "950  54f34aa1e1f00  \"value\":\"Y;U;A1;W\"}]      Y      U     A1      W\n",
      "951  54f47d97846bc  \"value\":\"N;U;I4;L\"}]      N      U     I4      L\n",
      "952  54f5337f14bd6  \"value\":\"N;U;A4;W\"}]      N      U     A4      W\n",
      "\n",
      "[953 rows x 6 columns]\n"
     ]
    }
   ],
   "source": [
    "s = (\"{\" + Parsing[\"data_to_parse\"].str.strip(\"]\")).apply(pd.io.json.loads)\n",
    "df2 = s.apply(pd.Series)[\"value\"].str.split(\";\", expand=True)\n",
    "new_df = pd.concat([Parsing, df2.add_prefix(\"value\")], axis=1)\n",
    "print(new_df)"
   ]
  },
  {
   "cell_type": "markdown",
   "metadata": {},
   "source": [
    "## Additional Questions – Pick One"
   ]
  },
  {
   "cell_type": "markdown",
   "metadata": {},
   "source": [
    "B) One of the ways we attract new members is through digital marketing campaigns (e.g., on Facebook).\n",
    "Assume that we know a little bit about potential users who see an ad for Shipt on Facebook – things like\n",
    "name and general metropolitan area, and then can measure the impressions on the ad, clicks to our\n",
    "landing page, and then conversions on our landing page. Our goal then is to drive more conversions on\n",
    "the landing page. What are some ways you might look at the already collected data (or some ways to\n",
    "enrich the existing data set) to try and make recommendations to the Marketing team for how to optimize their campaigns?"
   ]
  },
  {
   "cell_type": "markdown",
   "metadata": {},
   "source": [
    "1)\tGathering information through surveys: Customers that know Shipt are more likely to provide more information that they feel will help us personalize and customize their customer experience in the future. The surveys can be introduced at the end of shopping online or on social media channels like facebook, Instagram etc. It is a great way to capture communication preferences and preferred frequency.\n",
    "\n",
    "2)\tUsing Web Analytics: Online Behavior offers a plethora of information about a customer’s intent and interests. Cookies allows to link behavior to customer records for a detailed view of products that the customer might be interested in and purchase timelines. For eg: A person is looking at pet products online, with the help of cookies we can capture this information and send this customer an email containing products from Petsmart on Shipt. In the same way lots of data can be used in conversational marketing campaigns that offer highly relevant recommendations based on cookie history.\n",
    "\n",
    "3)\tMonitor Customer’s Email Behavior: On an average a customer receives 9000 emails a year. And not all emails are opened by the customer, so we need to recognize the odds that information is sent wisely. By monitoring how a customer clicks, when they click and how often they engage in email interaction. If we have this data, it can reveal some key insights on how we optimize the frequency of digital communication and messaging.\n",
    "\n",
    "4)\tForm Capture & Progressive Profiling: Form capture on landing pages that offer value such as a discount on some items or delivery fee waived on first order in exchange for customer information are a natural source of customizable data capture. Progressive profiling allows to ask a few questions at a time over a period of months or years thereby slowly augmenting the customer record over time. As long as our target audience sees value in exchange for sharing personal information, progressive profiling can become a rich source of insight to enrich the customer database.\n",
    "\n",
    "Now from a more technical point of view on how we can get enriched data:These days most of the companies use cloud data warehouses. The data when we first come across it is in a very raw format. So there are a number of steps involved in making this unstructured data structured and enriched which is easier to do further analysis--\n",
    "\n",
    "1)\tExtract: This is the raw data from the source which is usually unstructured, In AWS or any cloud Technologies we use we make 3 buckets namely- Raw/Transformed/ Enriched. Initially using file transfer we transfer all our data to the Raw bucket first which creates a central repo.\n",
    "\n",
    "2)\tTransform: We perform transformations on data such is removing pipe delimiters, correcting data type, validating data, profiling, etc \n",
    "\n",
    "3)\t  Load: After the transformations are done we load the structured data into Redshift which is a data warehouse , OLAP which is used for Analytics, from this stage slicing and dicing of the data can be done to produce insights.\n",
    "\n",
    "4)\tThere is one more component which is the Enriched bucket, the data going into this bucket is in a very filtered format, for example- older data that doesn’t hold any value is discarded, upto date records which are daily records that come through change data capture are stored in this bucked.\n",
    "\n",
    "Thus with the above process we make sure that the data we have is true to its form, upto date and structured.\n"
   ]
  }
 ],
 "metadata": {
  "kernelspec": {
   "display_name": "Python 3",
   "language": "python",
   "name": "python3"
  },
  "language_info": {
   "codemirror_mode": {
    "name": "ipython",
    "version": 3
   },
   "file_extension": ".py",
   "mimetype": "text/x-python",
   "name": "python",
   "nbconvert_exporter": "python",
   "pygments_lexer": "ipython3",
   "version": "3.7.6"
  }
 },
 "nbformat": 4,
 "nbformat_minor": 4
}
